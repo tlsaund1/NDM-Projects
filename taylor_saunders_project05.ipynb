{
 "cells": [
  {
   "cell_type": "markdown",
   "id": "be02a957-7133-4d02-818e-fedeb3cecb05",
   "metadata": {},
   "source": [
    "# Project 5 -- Taylor Saunders"
   ]
  },
  {
   "cell_type": "markdown",
   "id": "a1228853-dd19-4ab2-89e0-0394d7d72de3",
   "metadata": {},
   "source": [
    "**TA Help:** \n",
    "na\n",
    "    \n",
    "**Collaboration:** \n",
    "na"
   ]
  },
  {
   "cell_type": "markdown",
   "id": "6180e742-8e39-4698-98ff-5b00c8cf8ea0",
   "metadata": {},
   "source": [
    "## Question 1"
   ]
  },
  {
   "cell_type": "markdown",
   "id": "782e6aea-e212-4c68-a329-59ea3f770047",
   "metadata": {},
   "source": [
    "\n",
    "Write a function called avg_aggreg_temp that takes 5 parameters: the file_location as a string, the column_title_list as a list of column titles, the start_date as an integer, the end_date as an integer, and the temperature element_code as a string, with default value \"TAVG\". Your function should output the average value for rows with that element_code. For instance, in the default case (where element_code is \"TAVG\"), your function should output the average value which is the average of the average temperatures (as a decimal number).\n",
    "\n",
    "Run the function for on the data set 2018.csv, using start_date 20180101 and end_date 20180115, and with \"TAVG\" as the element_code."
   ]
  },
  {
   "cell_type": "code",
   "execution_count": 3,
   "id": "54375dd0-a2aa-4012-a12f-f6d1bbc9ed19",
   "metadata": {},
   "outputs": [],
   "source": [
    "import pandas as pd"
   ]
  },
  {
   "cell_type": "markdown",
   "id": "4e21d428-a9e3-47cf-b67c-f96fdbdb6840",
   "metadata": {},
   "source": [
    "Pre-work for the function"
   ]
  },
  {
   "cell_type": "code",
   "execution_count": 5,
   "id": "17598c05-6270-4732-bb48-051dfaa0be85",
   "metadata": {},
   "outputs": [],
   "source": [
    "myDF = pd.read_csv(\"/anvil/projects/tdm/data/noaa/1880.csv\", header = None, names = [\"id\",\"date\",\"element_code\",\"value\",\"mflag\",\"qflag\",\"sflag\",\"obstime\"])"
   ]
  },
  {
   "cell_type": "code",
   "execution_count": 6,
   "id": "725b1b2d-7346-4e9c-aeed-aa1a638f4876",
   "metadata": {},
   "outputs": [
    {
     "data": {
      "text/html": [
       "<div>\n",
       "<style scoped>\n",
       "    .dataframe tbody tr th:only-of-type {\n",
       "        vertical-align: middle;\n",
       "    }\n",
       "\n",
       "    .dataframe tbody tr th {\n",
       "        vertical-align: top;\n",
       "    }\n",
       "\n",
       "    .dataframe thead th {\n",
       "        text-align: right;\n",
       "    }\n",
       "</style>\n",
       "<table border=\"1\" class=\"dataframe\">\n",
       "  <thead>\n",
       "    <tr style=\"text-align: right;\">\n",
       "      <th></th>\n",
       "      <th>id</th>\n",
       "      <th>date</th>\n",
       "      <th>element_code</th>\n",
       "      <th>value</th>\n",
       "      <th>mflag</th>\n",
       "      <th>qflag</th>\n",
       "      <th>sflag</th>\n",
       "      <th>obstime</th>\n",
       "    </tr>\n",
       "  </thead>\n",
       "  <tbody>\n",
       "    <tr>\n",
       "      <th>0</th>\n",
       "      <td>AGE00147705</td>\n",
       "      <td>18800101</td>\n",
       "      <td>PRCP</td>\n",
       "      <td>0</td>\n",
       "      <td>NaN</td>\n",
       "      <td>NaN</td>\n",
       "      <td>E</td>\n",
       "      <td>NaN</td>\n",
       "    </tr>\n",
       "    <tr>\n",
       "      <th>1</th>\n",
       "      <td>AGE00147708</td>\n",
       "      <td>18800101</td>\n",
       "      <td>PRCP</td>\n",
       "      <td>36</td>\n",
       "      <td>NaN</td>\n",
       "      <td>NaN</td>\n",
       "      <td>E</td>\n",
       "      <td>NaN</td>\n",
       "    </tr>\n",
       "    <tr>\n",
       "      <th>2</th>\n",
       "      <td>AGE00147709</td>\n",
       "      <td>18800101</td>\n",
       "      <td>PRCP</td>\n",
       "      <td>36</td>\n",
       "      <td>NaN</td>\n",
       "      <td>NaN</td>\n",
       "      <td>E</td>\n",
       "      <td>NaN</td>\n",
       "    </tr>\n",
       "    <tr>\n",
       "      <th>3</th>\n",
       "      <td>AGE00147712</td>\n",
       "      <td>18800101</td>\n",
       "      <td>PRCP</td>\n",
       "      <td>0</td>\n",
       "      <td>NaN</td>\n",
       "      <td>NaN</td>\n",
       "      <td>E</td>\n",
       "      <td>NaN</td>\n",
       "    </tr>\n",
       "    <tr>\n",
       "      <th>4</th>\n",
       "      <td>AGE00147713</td>\n",
       "      <td>18800101</td>\n",
       "      <td>TMAX</td>\n",
       "      <td>52</td>\n",
       "      <td>NaN</td>\n",
       "      <td>NaN</td>\n",
       "      <td>E</td>\n",
       "      <td>NaN</td>\n",
       "    </tr>\n",
       "  </tbody>\n",
       "</table>\n",
       "</div>"
      ],
      "text/plain": [
       "            id      date element_code  value mflag qflag sflag  obstime\n",
       "0  AGE00147705  18800101         PRCP      0   NaN   NaN     E      NaN\n",
       "1  AGE00147708  18800101         PRCP     36   NaN   NaN     E      NaN\n",
       "2  AGE00147709  18800101         PRCP     36   NaN   NaN     E      NaN\n",
       "3  AGE00147712  18800101         PRCP      0   NaN   NaN     E      NaN\n",
       "4  AGE00147713  18800101         TMAX     52   NaN   NaN     E      NaN"
      ]
     },
     "execution_count": 6,
     "metadata": {},
     "output_type": "execute_result"
    }
   ],
   "source": [
    "myDF.head()"
   ]
  },
  {
   "cell_type": "code",
   "execution_count": 12,
   "id": "e3883992-611c-4a45-9224-04e4f35742f2",
   "metadata": {},
   "outputs": [
    {
     "data": {
      "text/plain": [
       "(31676, 8)"
      ]
     },
     "execution_count": 12,
     "metadata": {},
     "output_type": "execute_result"
    }
   ],
   "source": [
    "myDF[(myDF['date'] >= 18800701) & (myDF['date'] <= 18800731)].shape"
   ]
  },
  {
   "cell_type": "code",
   "execution_count": 14,
   "id": "3d3ef863-e147-4237-9df7-17c9e066ed08",
   "metadata": {},
   "outputs": [
    {
     "data": {
      "text/plain": [
       "(370779, 8)"
      ]
     },
     "execution_count": 14,
     "metadata": {},
     "output_type": "execute_result"
    }
   ],
   "source": [
    "myDF.shape"
   ]
  },
  {
   "cell_type": "code",
   "execution_count": 16,
   "id": "4a7836d4-c084-4317-8674-c8137fd69d18",
   "metadata": {},
   "outputs": [
    {
     "data": {
      "text/plain": [
       "14.785096332466429"
      ]
     },
     "execution_count": 16,
     "metadata": {},
     "output_type": "execute_result"
    }
   ],
   "source": [
    "myDF[(myDF['date'] >= 18800701) & (myDF['date'] <= 18800731) & (myDF['element_code']=='PRCP')]['value'] .mean()"
   ]
  },
  {
   "cell_type": "markdown",
   "id": "4e679db6-3eb4-40a4-a6ec-e17607452b02",
   "metadata": {},
   "source": [
    "function"
   ]
  },
  {
   "cell_type": "markdown",
   "id": "d560d8ff-de36-4767-8124-bced66b0594c",
   "metadata": {},
   "source": [
    "function: def avg_aggreg_temp\n",
    "\n",
    "function parameters: (file_location, column_title_list, start_date, end_date, element_code)\n",
    "\n",
    "full function:\n",
    "\n",
    "def avg_aggreg_temp(file_location, column_title_list, start_date, end_date, element_code):\n",
    "\n",
    "    myDF = pd.read_csv(file_location, header=None, names=column_title_list)\n",
    "    \n",
    "    myresult = myDF[(myDF['date'] >= start_date) & (myDF['date'] <= end_date) & (myDF['element_code'] == my_element_code)]['value'].mean()\n",
    "    \n",
    "    return myresult\n"
   ]
  },
  {
   "cell_type": "code",
   "execution_count": 33,
   "id": "58fd2978-c528-4c08-a59c-128a6413dbad",
   "metadata": {},
   "outputs": [],
   "source": [
    "def avg_aggreg_temp(file_location, column_title_list, start_date, end_date, element_code):\n",
    "    \"\"\"\n",
    "    file_location: LOCATION OF THE FILE WHERE DATA IS STORED\n",
    "    column_title_list: CONTAINS NAMES OF THE COLUMNS\n",
    "    start_date: FIRST WE WANT TO ANALYZE\n",
    "    end_date: LAST WE WANT TO ANALYZE\n",
    "    element_code: TYPE OF DATA TO CONSIDER IN THE ANALYSIS\n",
    "    \n",
    "    returns: FLOATING POINT VALUE CONTAINING THE AVERAGE OF THE VALUES FOR THE ROWS CORRESPONDING TO THE ELEMENT_CODE ROWS\n",
    "    \"\"\"\n",
    "    myDF = pd.read_csv(file_location, header=None, names=column_title_list)\n",
    "    myresult = myDF[(myDF['date'] >= start_date) & (myDF['date'] <= end_date) & (myDF['element_code'] == element_code)]['value'].mean()\n",
    "    return myresult"
   ]
  },
  {
   "cell_type": "code",
   "execution_count": null,
   "id": "880d455e-e747-4b30-9a12-d63f8a7bfad6",
   "metadata": {},
   "outputs": [],
   "source": [
    "avg_aggreg_temp(\"/anvil/projects/tdm/data/noaa/1880.csv\", [\"id\",\"date\",\"element_code\",\"value\",\"mflag\",\"qflag\",\"sflag\",\"obstime\"], 18800701, 18800731, 'PRCP')"
   ]
  },
  {
   "cell_type": "code",
   "execution_count": 32,
   "id": "3237d408-6afb-429a-9c80-9364a88474c1",
   "metadata": {},
   "outputs": [
    {
     "data": {
      "text/plain": [
       "235.09677419354838"
      ]
     },
     "execution_count": 32,
     "metadata": {},
     "output_type": "execute_result"
    }
   ],
   "source": [
    "avg_aggreg_temp(\"/anvil/projects/tdm/data/noaa/1880.csv\", [\"id\",\"date\",\"element_code\",\"value\",\"mflag\",\"qflag\",\"sflag\",\"obstime\"], 18800701, 18800731, 'TAVG')"
   ]
  },
  {
   "cell_type": "code",
   "execution_count": null,
   "id": "4abd9003-3d6e-4c5b-801f-da7f433ecf8d",
   "metadata": {},
   "outputs": [],
   "source": [
    "avg_aggreg_temp(\"/anvil/projects/tdm/data/noaa/2018.csv\", [\"id\",\"date\",\"element_code\",\"value\",\"mflag\",\"qflag\",\"sflag\",\"obstime\"], 20180101, 20180115, 'TAVG')"
   ]
  },
  {
   "cell_type": "markdown",
   "id": "fc601975-35ed-4680-a4e1-0273ee3cc047",
   "metadata": {},
   "source": [
    "## Question 2"
   ]
  },
  {
   "cell_type": "markdown",
   "id": "996b8d3b-bfef-4f34-8354-c08cfdb5e284",
   "metadata": {},
   "source": [
    "Create a function that takes a list of years (or, if you prefer, a list of file locations), as a list of column names, and an element_code as input, and returns a dictionary with one entry per year. In the dictionary, for each year, it should have the year as the key and the average value of the specified element_code as the value for that year.\n",
    "\n",
    "Test your function for the element_code \"TAVG\" and for the range of four years 1880 to 1883 (inclusive), i.e., range(1880,1884)."
   ]
  },
  {
   "cell_type": "code",
   "execution_count": 5,
   "id": "565c16ec-270e-4def-865e-330ca54f6efe",
   "metadata": {},
   "outputs": [],
   "source": [
    "column_title_list = [\"id\",\"date\",\"element_code\",\"value\",\"mflag\",\"qflag\",\"sflag\",\"obstime\"]\n",
    "myyear = 1880\n",
    "file_location = f'/anvil/projects/tdm/data/noaa/{myyear}.csv'\n",
    "\n",
    "myDF = pd.read_csv(file_location, header=None, names=column_title_list)\n",
    "element_code = 'PRCP'"
   ]
  },
  {
   "cell_type": "code",
   "execution_count": 8,
   "id": "6a389b4f-4ff1-4cdf-93ed-1460a2e5f9ea",
   "metadata": {},
   "outputs": [
    {
     "name": "stdout",
     "output_type": "stream",
     "text": [
      "17.528739659455965\n"
     ]
    }
   ],
   "source": [
    "myresult = myDF[(myDF['element_code'] == element_code)]['value'].mean()\n",
    "print(myresult)"
   ]
  },
  {
   "cell_type": "code",
   "execution_count": 21,
   "id": "8df70a90-b6af-48b1-ad74-76676046b292",
   "metadata": {},
   "outputs": [],
   "source": [
    "def avg_aggreg_temp_by_year(range_of_years, column_title_list, element_code = 'TAVG') -> dict:\n",
    "    \"\"\"\n",
    "    range_of_years: LIST OF YEARS OF DATA WE ARE ANALYZING\n",
    "    column_title_list: CONTAINS NAMES OF THE COLUMNS\n",
    "    element_code: TYPE OF DATA TO CONSIDER IN THE ANALYSIS\n",
    "    \n",
    "    returns: A DICTIONARY FOR ONE FLOATING POINT VALUE FOR EACH YEAR CONTAINING THE AVERAGE OF THE VALUES FOR THE ROWS CORRESPONDING TO THE ELEMENT_CODE ROWS\n",
    "    \"\"\"\n",
    "    mydict = {}\n",
    "    for myyear in range_of_years:\n",
    "        file_location = f'/anvil/projects/tdm/data/noaa/{myyear}.csv'\n",
    "        myDF = pd.read_csv(file_location, header=None, names=column_title_list)\n",
    "        myresult = myDF[(myDF['element_code'] == element_code)]['value'].mean()\n",
    "        mydict[myyear] = myresult\n",
    "    return mydict"
   ]
  },
  {
   "cell_type": "code",
   "execution_count": 22,
   "id": "54677eb9-1825-43dd-adba-91da24f7ec3f",
   "metadata": {},
   "outputs": [
    {
     "data": {
      "text/plain": [
       "{1880: 127.30054644808743,\n",
       " 1881: 49.00669116954104,\n",
       " 1882: 58.33541290428501,\n",
       " 1883: 50.54050116550116}"
      ]
     },
     "execution_count": 22,
     "metadata": {},
     "output_type": "execute_result"
    }
   ],
   "source": [
    "avg_aggreg_temp_by_year(range(1880,1884), [\"id\",\"date\",\"element_code\",\"value\",\"mflag\",\"qflag\",\"sflag\",\"obstime\"], \"TAVG\")"
   ]
  },
  {
   "cell_type": "markdown",
   "id": "8e586edd-ff26-4ce2-8f6b-2424b26f2929",
   "metadata": {},
   "source": [
    "## Question 3"
   ]
  },
  {
   "cell_type": "markdown",
   "id": "e7d96d25-4334-4bf4-8ce1-3b1e4983b94e",
   "metadata": {},
   "source": [
    "Modify the function that you created in Question 2, to include an extra parameter for the month. This function should have the same behavior as in Question 2, but for each year, the function should only use the data from that month of the year.\n",
    "\n",
    "Test your function for the element_code \"TAVG\" and for the range of four years 1880 to 1883 (inclusive), i.e., range(1880,1884), and for the month August in each year."
   ]
  },
  {
   "cell_type": "code",
   "execution_count": 32,
   "id": "35791c79-64f2-4ca7-9529-bcc80e93d0cd",
   "metadata": {},
   "outputs": [],
   "source": [
    "def avg_aggreg_temp_by_year_and_month(range_of_years, mymonth, column_title_list, element_code = 'TAVG') -> dict:\n",
    "    \"\"\"\n",
    "    range_of_years: LIST OF YEARS OF DATA WE ARE ANALYZING\n",
    "    column_title_list: CONTAINS NAMES OF THE COLUMNS\n",
    "    mymonth: ONLY MONTH OF DATA\n",
    "    element_code: TYPE OF DATA TO CONSIDER IN THE ANALYSIS\n",
    "    \n",
    "    returns: A DICTIONARY FOR ONE FLOATING POINT VALUE FOR EACH YEAR CONTAINING THE AVERAGE OF THE VALUES FOR THE ROWS CORRESPONDING TO THE ELEMENT_CODE ROWS\n",
    "    \"\"\"\n",
    "    mydict = {}\n",
    "    for myyear in range_of_years:\n",
    "        file_location = f'/anvil/projects/tdm/data/noaa/{myyear}.csv'\n",
    "        myDF = pd.read_csv(file_location, header=None, names=column_title_list)\n",
    "        myDF['month'] = pd.to_datetime(myDF['date'], format = '%Y%m%d').dt.month\n",
    "        myresult = myDF[(myDF['element_code'] == element_code) & (myDF['month'] == mymonth)]['value'].mean()\n",
    "        mydict[myyear] = myresult\n",
    "    return mydict"
   ]
  },
  {
   "cell_type": "code",
   "execution_count": 34,
   "id": "ebdba1d9-ef26-4da5-a5fc-dddb3047dc83",
   "metadata": {},
   "outputs": [
    {
     "data": {
      "text/plain": [
       "{1880: 225.70967741935485,\n",
       " 1881: 188.42227122381476,\n",
       " 1882: 207.34585741811176,\n",
       " 1883: 185.22810060711188}"
      ]
     },
     "execution_count": 34,
     "metadata": {},
     "output_type": "execute_result"
    }
   ],
   "source": [
    "avg_aggreg_temp_by_year_and_month(range(1880,1884), 8, [\"id\",\"date\",\"element_code\",\"value\",\"mflag\",\"qflag\",\"sflag\",\"obstime\"])"
   ]
  },
  {
   "cell_type": "markdown",
   "id": "da22f29c-d245-4d2b-9fc1-ca14cb6087d9",
   "metadata": {},
   "source": [
    "## Question 4"
   ]
  },
  {
   "cell_type": "markdown",
   "id": "d1e33a5a-3300-4e53-b65a-955b8ca889b5",
   "metadata": {},
   "source": [
    "Create a function that takes a list of years as input, and identifies the year that has the most qflags of the type that the user specified.\n",
    "\n",
    "Run the function for years in the range 1880 to 1883, and test it with some various qflag values, such as D, G, I, K, L, N, O, S, X."
   ]
  },
  {
   "cell_type": "code",
   "execution_count": 55,
   "id": "6a4237ef-1bbf-4f68-8c9b-e0b43f774ff5",
   "metadata": {},
   "outputs": [],
   "source": [
    "def year_max_qflag(range_of_years, column_title_list, qflag) -> dict:\n",
    "    \"\"\"\n",
    "    range_of_years: RANGE USER DESIRES FOR ANALYSIS\n",
    "    \n",
    "    column_title_list: CONTAINS NAMES OF THE COLUMNS\n",
    "    \n",
    "    qflag: SPECIFIED Q FLAG FOR ANALYSIS\n",
    "    \"\"\"\n",
    "    qflagdict = {}\n",
    "    for year in range_of_years:\n",
    "        file_location = f'/anvil/projects/tdm/data/noaa/{myyear}.csv'\n",
    "        myDF = pd.read_csv(file_location, header=None, names=column_title_list)\n",
    "        myqflag = myDF[myDF['qflag'] == qflag].shape[0]\n",
    "        qflagdict[year] = myqflag\n",
    "    return qflagdict"
   ]
  },
  {
   "cell_type": "code",
   "execution_count": 40,
   "id": "df6fe18e-0f83-48c5-ae4e-1375b2deb998",
   "metadata": {},
   "outputs": [
    {
     "data": {
      "text/plain": [
       "{1880: 548, 1881: 548, 1882: 548, 1883: 548}"
      ]
     },
     "execution_count": 40,
     "metadata": {},
     "output_type": "execute_result"
    }
   ],
   "source": [
    "year_max_qflag(range(1880, 1884), [\"id\",\"date\",\"element_code\",\"value\",\"mflag\",\"qflag\",\"sflag\",\"obstime\"], \"D\") "
   ]
  },
  {
   "cell_type": "code",
   "execution_count": 43,
   "id": "867166ed-d289-43cc-b519-88305a7973cf",
   "metadata": {},
   "outputs": [
    {
     "data": {
      "text/plain": [
       "{1880: 1, 1881: 1, 1882: 1, 1883: 1}"
      ]
     },
     "execution_count": 43,
     "metadata": {},
     "output_type": "execute_result"
    }
   ],
   "source": [
    "year_max_qflag(range(1880, 1884), [\"id\",\"date\",\"element_code\",\"value\",\"mflag\",\"qflag\",\"sflag\",\"obstime\"], \"G\")"
   ]
  },
  {
   "cell_type": "code",
   "execution_count": 44,
   "id": "bb30ea07-0f46-45a3-b097-0720cc5c3e42",
   "metadata": {},
   "outputs": [
    {
     "data": {
      "text/plain": [
       "{1880: 363, 1881: 363, 1882: 363, 1883: 363}"
      ]
     },
     "execution_count": 44,
     "metadata": {},
     "output_type": "execute_result"
    }
   ],
   "source": [
    "year_max_qflag(range(1880, 1884), [\"id\",\"date\",\"element_code\",\"value\",\"mflag\",\"qflag\",\"sflag\",\"obstime\"], \"I\")"
   ]
  },
  {
   "cell_type": "code",
   "execution_count": 46,
   "id": "e6aec58c-ccec-475c-b694-5cc8f20980e2",
   "metadata": {},
   "outputs": [
    {
     "data": {
      "text/plain": [
       "{1880: 0, 1881: 0, 1882: 0, 1883: 0}"
      ]
     },
     "execution_count": 46,
     "metadata": {},
     "output_type": "execute_result"
    }
   ],
   "source": [
    "year_max_qflag(range(1880, 1884), [\"id\",\"date\",\"element_code\",\"value\",\"mflag\",\"qflag\",\"sflag\",\"obstime\"], \"K\")"
   ]
  },
  {
   "cell_type": "code",
   "execution_count": 48,
   "id": "f282c236-7a87-4c24-9476-128766be3262",
   "metadata": {},
   "outputs": [
    {
     "data": {
      "text/plain": [
       "{1880: 0, 1881: 0, 1882: 0, 1883: 0}"
      ]
     },
     "execution_count": 48,
     "metadata": {},
     "output_type": "execute_result"
    }
   ],
   "source": [
    "year_max_qflag(range(1880, 1884), [\"id\",\"date\",\"element_code\",\"value\",\"mflag\",\"qflag\",\"sflag\",\"obstime\"], \"L\")"
   ]
  },
  {
   "cell_type": "code",
   "execution_count": 50,
   "id": "d60f495c-bd62-4ca0-ba7b-165296e448a2",
   "metadata": {},
   "outputs": [
    {
     "data": {
      "text/plain": [
       "{1880: 12, 1881: 12, 1882: 12, 1883: 12}"
      ]
     },
     "execution_count": 50,
     "metadata": {},
     "output_type": "execute_result"
    }
   ],
   "source": [
    "year_max_qflag(range(1880, 1884), [\"id\",\"date\",\"element_code\",\"value\",\"mflag\",\"qflag\",\"sflag\",\"obstime\"], \"N\")"
   ]
  },
  {
   "cell_type": "code",
   "execution_count": 51,
   "id": "89c77990-f7b1-4985-bef9-3e9c83edb878",
   "metadata": {},
   "outputs": [
    {
     "data": {
      "text/plain": [
       "{1880: 3, 1881: 3, 1882: 3, 1883: 3}"
      ]
     },
     "execution_count": 51,
     "metadata": {},
     "output_type": "execute_result"
    }
   ],
   "source": [
    "year_max_qflag(range(1880, 1884), [\"id\",\"date\",\"element_code\",\"value\",\"mflag\",\"qflag\",\"sflag\",\"obstime\"], \"O\")"
   ]
  },
  {
   "cell_type": "code",
   "execution_count": 52,
   "id": "a754cfd6-f6f2-453e-b378-2cd85ed0f45c",
   "metadata": {},
   "outputs": [
    {
     "data": {
      "text/plain": [
       "{1880: 6, 1881: 6, 1882: 6, 1883: 6}"
      ]
     },
     "execution_count": 52,
     "metadata": {},
     "output_type": "execute_result"
    }
   ],
   "source": [
    "year_max_qflag(range(1880, 1884), [\"id\",\"date\",\"element_code\",\"value\",\"mflag\",\"qflag\",\"sflag\",\"obstime\"], \"S\")"
   ]
  },
  {
   "cell_type": "code",
   "execution_count": 53,
   "id": "18ec2591-0cd6-49bc-a1d0-b97e9809f28a",
   "metadata": {},
   "outputs": [
    {
     "data": {
      "text/plain": [
       "{1880: 3, 1881: 3, 1882: 3, 1883: 3}"
      ]
     },
     "execution_count": 53,
     "metadata": {},
     "output_type": "execute_result"
    }
   ],
   "source": [
    "year_max_qflag(range(1880, 1884), [\"id\",\"date\",\"element_code\",\"value\",\"mflag\",\"qflag\",\"sflag\",\"obstime\"], \"X\")"
   ]
  },
  {
   "cell_type": "markdown",
   "id": "88c9cdac-3e92-498f-83fa-e089bfc44ac8",
   "metadata": {},
   "source": [
    "## Question 5"
   ]
  },
  {
   "cell_type": "markdown",
   "id": "58b46e2e-cc98-4bdb-80cc-cb309f7738a0",
   "metadata": {},
   "source": [
    "Explore the dataset files from the noaa directory, and create a function of your own design, about something that interests you. Make sure to include a docstring that explains the function’s definition.\n",
    "\n",
    "Run your function, and explain the inputs and outputs, so that a user can understand how it works"
   ]
  },
  {
   "cell_type": "code",
   "execution_count": 56,
   "id": "56f8ea26-ca3b-4ffa-85dd-be232fedced2",
   "metadata": {},
   "outputs": [
    {
     "data": {
      "text/plain": [
       "Index(['id', 'date', 'element_code', 'value', 'mflag', 'qflag', 'sflag',\n",
       "       'obstime'],\n",
       "      dtype='object')"
      ]
     },
     "execution_count": 56,
     "metadata": {},
     "output_type": "execute_result"
    }
   ],
   "source": [
    "myDF.columns"
   ]
  },
  {
   "cell_type": "code",
   "execution_count": 57,
   "id": "cb4607d0-36b5-44d7-864c-e65fd3b97949",
   "metadata": {},
   "outputs": [],
   "source": [
    "def year_max_qflag(range_of_years, column_title_list, mflag) -> dict:\n",
    "    \"\"\"\n",
    "    range_of_years: RANGE USER DESIRES FOR ANALYSIS\n",
    "    \n",
    "    column_title_list: CONTAINS NAMES OF THE COLUMNS\n",
    "    \n",
    "    qflag: SPECIFIED Q FLAG FOR ANALYSIS\n",
    "    \"\"\"\n",
    "    qflagdict = {}\n",
    "    for year in range_of_years:\n",
    "        file_location = f'/anvil/projects/tdm/data/noaa/{myyear}.csv'\n",
    "        myDF = pd.read_csv(file_location, header=None, names=column_title_list)\n",
    "        myqflag = myDF[myDF['qflag'] == qflag].shape[0]\n",
    "        qflagdict[year] = myqflag\n",
    "    return qflagdict"
   ]
  },
  {
   "cell_type": "markdown",
   "id": "f76442d6-d02e-4f26-b9d6-c3183e1d6929",
   "metadata": {},
   "source": [
    "## Pledge\n",
    "\n",
    "By submitting this work I hereby pledge that this is my own, personal work. I've acknowledged in the designated place at the top of this file all sources that I used to complete said work, including but not limited to: online resources, books, and electronic communications. I've noted all collaboration with fellow students and/or TA's. I did not copy or plagiarize another's work.\n",
    "\n",
    "> As a Boilermaker pursuing academic excellence, I pledge to be honest and true in all that I do. Accountable together – We are Purdue."
   ]
  }
 ],
 "metadata": {
  "kernelspec": {
   "display_name": "seminar",
   "language": "python",
   "name": "seminar"
  },
  "language_info": {
   "codemirror_mode": {
    "name": "ipython",
    "version": 3
   },
   "file_extension": ".py",
   "mimetype": "text/x-python",
   "name": "python",
   "nbconvert_exporter": "python",
   "pygments_lexer": "ipython3",
   "version": "3.11.5"
  }
 },
 "nbformat": 4,
 "nbformat_minor": 5
}

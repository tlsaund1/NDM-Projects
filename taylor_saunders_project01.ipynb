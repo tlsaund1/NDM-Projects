{
 "cells": [
  {
   "cell_type": "markdown",
   "id": "be02a957-7133-4d02-818e-fedeb3cecb05",
   "metadata": {},
   "source": [
    "# Project 1 -- Taylor Saunders"
   ]
  },
  {
   "cell_type": "markdown",
   "id": "a1228853-dd19-4ab2-89e0-0394d7d72de3",
   "metadata": {},
   "source": [
    "**TA Help:** \n",
    "na\n",
    "    \n",
    "**Collaboration:** \n",
    "na"
   ]
  },
  {
   "cell_type": "markdown",
   "id": "6180e742-8e39-4698-98ff-5b00c8cf8ea0",
   "metadata": {},
   "source": [
    "## Question 1"
   ]
  },
  {
   "cell_type": "code",
   "execution_count": 2,
   "id": "49445606-d363-41b4-b479-e319a9a84c01",
   "metadata": {},
   "outputs": [],
   "source": [
    "import lxml.etree\n",
    "tree = lxml.etree.parse(\"/anvil/projects/tdm/data/otc/valu.xml\")"
   ]
  },
  {
   "cell_type": "code",
   "execution_count": 11,
   "id": "54375dd0-a2aa-4012-a12f-f6d1bbc9ed19",
   "metadata": {},
   "outputs": [
    {
     "data": {
      "text/plain": [
       "'{urn:hl7-org:v3}document'"
      ]
     },
     "execution_count": 11,
     "metadata": {},
     "output_type": "execute_result"
    }
   ],
   "source": [
    "#all elements in the entire page\n",
    "#//ns:* = any results for any title\n",
    "#find root elements tag\n",
    "tree.xpath(\"//ns:*\", namespaces = {'ns': 'urn:hl7-org:v3'})[0]\n",
    "tree.xpath(\"//ns:*\", namespaces = {'ns': 'urn:hl7-org:v3'})[0].tag"
   ]
  },
  {
   "cell_type": "markdown",
   "id": "fc601975-35ed-4680-a4e1-0273ee3cc047",
   "metadata": {},
   "source": [
    "## Question 2"
   ]
  },
  {
   "cell_type": "code",
   "execution_count": 16,
   "id": "a16336a1-1ef0-41e8-bc7c-49387db27497",
   "metadata": {},
   "outputs": [
    {
     "data": {
      "text/plain": [
       "[<Element {urn:hl7-org:v3}title at 0x7fcf88fcf740>,\n",
       " <Element {urn:hl7-org:v3}title at 0x7fcf52185a00>,\n",
       " <Element {urn:hl7-org:v3}title at 0x7fcf521852c0>,\n",
       " <Element {urn:hl7-org:v3}title at 0x7fcf52055280>,\n",
       " <Element {urn:hl7-org:v3}title at 0x7fcf52055300>,\n",
       " <Element {urn:hl7-org:v3}title at 0x7fcf52055380>,\n",
       " <Element {urn:hl7-org:v3}title at 0x7fcf520553c0>,\n",
       " <Element {urn:hl7-org:v3}title at 0x7fcf52055400>,\n",
       " <Element {urn:hl7-org:v3}title at 0x7fcf52055440>,\n",
       " <Element {urn:hl7-org:v3}title at 0x7fcf52055340>,\n",
       " <Element {urn:hl7-org:v3}title at 0x7fcf52055480>,\n",
       " <Element {urn:hl7-org:v3}title at 0x7fcf520554c0>,\n",
       " <Element {urn:hl7-org:v3}title at 0x7fcf52055500>]"
      ]
     },
     "execution_count": 16,
     "metadata": {},
     "output_type": "execute_result"
    }
   ],
   "source": [
    "tree.xpath(\"//ns:title\", namespaces = {'ns': 'urn:hl7-org:v3'})"
   ]
  },
  {
   "cell_type": "code",
   "execution_count": 18,
   "id": "be7bf9cf-45d9-44f1-a400-28a915dc5bf2",
   "metadata": {},
   "outputs": [
    {
     "data": {
      "text/plain": [
       "13"
      ]
     },
     "execution_count": 18,
     "metadata": {},
     "output_type": "execute_result"
    }
   ],
   "source": [
    "len(tree.xpath(\"//ns:title\", namespaces = {'ns': 'urn:hl7-org:v3'}))"
   ]
  },
  {
   "cell_type": "code",
   "execution_count": 22,
   "id": "d0bda07e-48a3-4296-bc3d-187a82574048",
   "metadata": {},
   "outputs": [
    {
     "name": "stdout",
     "output_type": "stream",
     "text": [
      "1004-BST-2021-1116\n",
      "Active ingredient (in each caplet)\n",
      "Purpose\n",
      "Uses\n",
      "Warnings\n",
      "Liver warning\n",
      "Do not use\n",
      "Stop use and ask a doctor if\n",
      "Overdose warning\n",
      "Directions\n",
      "Other information\n",
      "Inactive ingredients\n",
      "PRINCIPAL DISPLAY PANEL\n"
     ]
    }
   ],
   "source": [
    "for e in tree.xpath(\"//ns:title\", namespaces = {'ns': 'urn:hl7-org:v3'}):\n",
    "                    print(e.text)"
   ]
  },
  {
   "cell_type": "markdown",
   "id": "8e586edd-ff26-4ce2-8f6b-2424b26f2929",
   "metadata": {},
   "source": [
    "## Question 3"
   ]
  },
  {
   "cell_type": "code",
   "execution_count": 31,
   "id": "35791c79-64f2-4ca7-9529-bcc80e93d0cd",
   "metadata": {},
   "outputs": [
    {
     "name": "stdout",
     "output_type": "stream",
     "text": [
      "{urn:hl7-org:v3}id\n",
      "{urn:hl7-org:v3}code\n",
      "{urn:hl7-org:v3}title\n",
      "{urn:hl7-org:v3}effectiveTime\n",
      "{urn:hl7-org:v3}setId\n",
      "{urn:hl7-org:v3}versionNumber\n",
      "{urn:hl7-org:v3}author\n",
      "{urn:hl7-org:v3}component\n"
     ]
    }
   ],
   "source": [
    "for e in tree.xpath(\"//ns:document\", namespaces = {'ns': 'urn:hl7-org:v3'}):\n",
    "    for mychildelement in e.getchildren():\n",
    "        print(mychildelement.tag)"
   ]
  },
  {
   "cell_type": "markdown",
   "id": "da22f29c-d245-4d2b-9fc1-ca14cb6087d9",
   "metadata": {},
   "source": [
    "## Question 4"
   ]
  },
  {
   "cell_type": "code",
   "execution_count": 35,
   "id": "efe3a9b8-dfd9-4a0a-ac92-a837546da4bf",
   "metadata": {},
   "outputs": [
    {
     "name": "stdout",
     "output_type": "stream",
     "text": [
      "{urn:hl7-org:v3}time\n",
      "{urn:hl7-org:v3}assignedEntity\n",
      "{urn:hl7-org:v3}territorialAuthority\n"
     ]
    }
   ],
   "source": [
    "for e in tree.xpath(\"//ns:author\", namespaces = {'ns': 'urn:hl7-org:v3'}):\n",
    "    for mychildelement in e.getchildren():\n",
    "        print(mychildelement.tag)"
   ]
  },
  {
   "cell_type": "code",
   "execution_count": 36,
   "id": "66e230b6-7838-409f-b3b6-0a87da77d2c0",
   "metadata": {},
   "outputs": [
    {
     "name": "stdout",
     "output_type": "stream",
     "text": [
      "None\n",
      "\n",
      "         \n",
      "\n",
      "                                 \n"
     ]
    }
   ],
   "source": [
    "for e in tree.xpath(\"//ns:author\", namespaces = {'ns': 'urn:hl7-org:v3'}):\n",
    "    for mychildelement in e.getchildren():\n",
    "        print(mychildelement.text)"
   ]
  },
  {
   "cell_type": "code",
   "execution_count": 37,
   "id": "0a1a2c7a-8217-47dd-a7e6-f06dc747f2e4",
   "metadata": {},
   "outputs": [
    {
     "name": "stdout",
     "output_type": "stream",
     "text": [
      "{}\n",
      "{}\n",
      "{}\n"
     ]
    }
   ],
   "source": [
    "for e in tree.xpath(\"//ns:author\", namespaces = {'ns': 'urn:hl7-org:v3'}):\n",
    "    for mychildelement in e.getchildren():\n",
    "        print(mychildelement.attrib)"
   ]
  },
  {
   "cell_type": "markdown",
   "id": "88c9cdac-3e92-498f-83fa-e089bfc44ac8",
   "metadata": {},
   "source": [
    "## Question 5"
   ]
  },
  {
   "cell_type": "code",
   "execution_count": 39,
   "id": "81658c3c-a42d-4801-8e9d-176c656db3a4",
   "metadata": {},
   "outputs": [
    {
     "data": {
      "text/plain": [
       "[<Element {urn:hl7-org:v3}code at 0x7fcf520572c0>,\n",
       " <Element {urn:hl7-org:v3}code at 0x7fcf52057680>,\n",
       " <Element {urn:hl7-org:v3}code at 0x7fcf520577c0>,\n",
       " <Element {urn:hl7-org:v3}formCode at 0x7fcf52057840>,\n",
       " <Element {urn:hl7-org:v3}code at 0x7fcf520579c0>,\n",
       " <Element {urn:hl7-org:v3}code at 0x7fcf52057ac0>,\n",
       " <Element {urn:hl7-org:v3}code at 0x7fcf52057bc0>,\n",
       " <Element {urn:hl7-org:v3}code at 0x7fcf52057cc0>,\n",
       " <Element {urn:hl7-org:v3}code at 0x7fcf52057dc0>,\n",
       " <Element {urn:hl7-org:v3}code at 0x7fcf52057ec0>,\n",
       " <Element {urn:hl7-org:v3}code at 0x7fcf52057fc0>,\n",
       " <Element {urn:hl7-org:v3}code at 0x7fcf52064100>,\n",
       " <Element {urn:hl7-org:v3}code at 0x7fcf52064200>,\n",
       " <Element {urn:hl7-org:v3}code at 0x7fcf520643c0>,\n",
       " <Element {urn:hl7-org:v3}code at 0x7fcf520644c0>,\n",
       " <Element {urn:hl7-org:v3}formCode at 0x7fcf520646c0>,\n",
       " <Element {urn:hl7-org:v3}code at 0x7fcf52064840>,\n",
       " <Element {urn:hl7-org:v3}formCode at 0x7fcf52064880>,\n",
       " <Element {urn:hl7-org:v3}code at 0x7fcf52064940>,\n",
       " <Element {urn:hl7-org:v3}code at 0x7fcf52064ac0>,\n",
       " <Element {urn:hl7-org:v3}value at 0x7fcf52064b00>,\n",
       " <Element {urn:hl7-org:v3}formCode at 0x7fcf52064cc0>,\n",
       " <Element {urn:hl7-org:v3}code at 0x7fcf52064e40>,\n",
       " <Element {urn:hl7-org:v3}formCode at 0x7fcf52064e80>,\n",
       " <Element {urn:hl7-org:v3}code at 0x7fcf52064f40>,\n",
       " <Element {urn:hl7-org:v3}code at 0x7fcf520650c0>,\n",
       " <Element {urn:hl7-org:v3}value at 0x7fcf52065100>,\n",
       " <Element {urn:hl7-org:v3}formCode at 0x7fcf520652c0>,\n",
       " <Element {urn:hl7-org:v3}code at 0x7fcf52065440>,\n",
       " <Element {urn:hl7-org:v3}formCode at 0x7fcf52065480>,\n",
       " <Element {urn:hl7-org:v3}code at 0x7fcf52065540>,\n",
       " <Element {urn:hl7-org:v3}code at 0x7fcf520656c0>,\n",
       " <Element {urn:hl7-org:v3}value at 0x7fcf52065700>,\n",
       " <Element {urn:hl7-org:v3}code at 0x7fcf52065880>,\n",
       " <Element {urn:hl7-org:v3}formCode at 0x7fcf520658c0>,\n",
       " <Element {urn:hl7-org:v3}code at 0x7fcf52065980>,\n",
       " <Element {urn:hl7-org:v3}value at 0x7fcf520659c0>,\n",
       " <Element {urn:hl7-org:v3}code at 0x7fcf52065a80>,\n",
       " <Element {urn:hl7-org:v3}formCode at 0x7fcf52065d00>,\n",
       " <Element {urn:hl7-org:v3}code at 0x7fcf52065e80>,\n",
       " <Element {urn:hl7-org:v3}formCode at 0x7fcf52065ec0>,\n",
       " <Element {urn:hl7-org:v3}code at 0x7fcf52065f80>,\n",
       " <Element {urn:hl7-org:v3}code at 0x7fcf52066100>,\n",
       " <Element {urn:hl7-org:v3}value at 0x7fcf52066140>,\n",
       " <Element {urn:hl7-org:v3}code at 0x7fcf52066240>,\n",
       " <Element {urn:hl7-org:v3}code at 0x7fcf52066340>,\n",
       " <Element {urn:hl7-org:v3}code at 0x7fcf52066400>,\n",
       " <Element {urn:hl7-org:v3}code at 0x7fcf52066580>,\n",
       " <Element {urn:hl7-org:v3}value at 0x7fcf520665c0>,\n",
       " <Element {urn:hl7-org:v3}code at 0x7fcf520666c0>,\n",
       " <Element {urn:hl7-org:v3}code at 0x7fcf520667c0>,\n",
       " <Element {urn:hl7-org:v3}value at 0x7fcf52066800>,\n",
       " <Element {urn:hl7-org:v3}code at 0x7fcf52066900>,\n",
       " <Element {urn:hl7-org:v3}code at 0x7fcf52066a00>,\n",
       " <Element {urn:hl7-org:v3}routeCode at 0x7fcf52066b00>,\n",
       " <Element {urn:hl7-org:v3}code at 0x7fcf52066c00>,\n",
       " <Element {urn:hl7-org:v3}code at 0x7fcf52066e40>,\n",
       " <Element {urn:hl7-org:v3}code at 0x7fcf52067000>,\n",
       " <Element {urn:hl7-org:v3}code at 0x7fcf520671c0>,\n",
       " <Element {urn:hl7-org:v3}code at 0x7fcf52067600>,\n",
       " <Element {urn:hl7-org:v3}code at 0x7fcf52067740>,\n",
       " <Element {urn:hl7-org:v3}code at 0x7fcf52067a00>,\n",
       " <Element {urn:hl7-org:v3}code at 0x7fcf52067c40>,\n",
       " <Element {urn:hl7-org:v3}code at 0x7fcf52067e40>,\n",
       " <Element {urn:hl7-org:v3}code at 0x7fcf52068080>,\n",
       " <Element {urn:hl7-org:v3}code at 0x7fcf52068380>,\n",
       " <Element {urn:hl7-org:v3}code at 0x7fcf52068580>,\n",
       " <Element {urn:hl7-org:v3}code at 0x7fcf52068780>,\n",
       " <Element {urn:hl7-org:v3}code at 0x7fcf52068940>,\n",
       " <Element {urn:hl7-org:v3}code at 0x7fcf52068fc0>,\n",
       " <Element {urn:hl7-org:v3}code at 0x7fcf52069200>,\n",
       " <Element {urn:hl7-org:v3}code at 0x7fcf520693c0>]"
      ]
     },
     "execution_count": 39,
     "metadata": {},
     "output_type": "execute_result"
    }
   ],
   "source": [
    "tree.xpath(\"//ns:*[@codeSystem]\", namespaces = {'ns': 'urn:hl7-org:v3'})"
   ]
  },
  {
   "cell_type": "code",
   "execution_count": 40,
   "id": "166ac0cc-4f66-4a05-8582-1e11193acfa5",
   "metadata": {},
   "outputs": [
    {
     "name": "stdout",
     "output_type": "stream",
     "text": [
      "{'code': '34068-7', 'codeSystem': '2.16.840.1.113883.6.1', 'displayName': 'DOSAGE & ADMINISTRATION SECTION'}\n"
     ]
    }
   ],
   "source": [
    "for e in tree.xpath(\"//ns:*[@codeSystem and contains(@displayName, 'DOSAGE')]\", namespaces = {'ns': 'urn:hl7-org:v3'}):\n",
    "    print(e.attrib)"
   ]
  },
  {
   "cell_type": "markdown",
   "id": "f76442d6-d02e-4f26-b9d6-c3183e1d6929",
   "metadata": {},
   "source": [
    "## Pledge\n",
    "\n",
    "By submitting this work I hereby pledge that this is my own, personal work. I've acknowledged in the designated place at the top of this file all sources that I used to complete said work, including but not limited to: online resources, books, and electronic communications. I've noted all collaboration with fellow students and/or TA's. I did not copy or plagiarize another's work.\n",
    "\n",
    "> As a Boilermaker pursuing academic excellence, I pledge to be honest and true in all that I do. Accountable together – We are Purdue."
   ]
  }
 ],
 "metadata": {
  "kernelspec": {
   "display_name": "seminar",
   "language": "python",
   "name": "seminar"
  },
  "language_info": {
   "codemirror_mode": {
    "name": "ipython",
    "version": 3
   },
   "file_extension": ".py",
   "mimetype": "text/x-python",
   "name": "python",
   "nbconvert_exporter": "python",
   "pygments_lexer": "ipython3",
   "version": "3.11.5"
  }
 },
 "nbformat": 4,
 "nbformat_minor": 5
}

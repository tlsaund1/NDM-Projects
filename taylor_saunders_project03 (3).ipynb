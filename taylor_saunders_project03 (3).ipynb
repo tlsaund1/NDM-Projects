{
 "cells": [
  {
   "cell_type": "markdown",
   "id": "be02a957-7133-4d02-818e-fedeb3cecb05",
   "metadata": {},
   "source": [
    "# Project 3 -- Taylor Saunders"
   ]
  },
  {
   "cell_type": "markdown",
   "id": "a1228853-dd19-4ab2-89e0-0394d7d72de3",
   "metadata": {},
   "source": [
    "**TA Help:** \n",
    "na\n",
    "    \n",
    "**Collaboration:** \n",
    "na"
   ]
  },
  {
   "cell_type": "markdown",
   "id": "6180e742-8e39-4698-98ff-5b00c8cf8ea0",
   "metadata": {},
   "source": [
    "## Question 1"
   ]
  },
  {
   "cell_type": "markdown",
   "id": "fbaab09b-7661-4ebb-bc4c-7a9f8953ac02",
   "metadata": {},
   "source": [
    "### Explore the files in the provided data set directory. Find out how many years are included in the data set. Briefly describe the contents of the files."
   ]
  },
  {
   "cell_type": "code",
   "execution_count": 1,
   "id": "255d0419-f2b0-457e-aff9-3a42a56ab35c",
   "metadata": {},
   "outputs": [],
   "source": [
    "import pandas as pd"
   ]
  },
  {
   "cell_type": "code",
   "execution_count": 2,
   "id": "177e9201-41b2-4f21-9b5a-029929dbf997",
   "metadata": {},
   "outputs": [],
   "source": [
    "from pathlib import Path"
   ]
  },
  {
   "cell_type": "code",
   "execution_count": 3,
   "id": "aa6c2040-80af-43ea-8a7d-c727402a006b",
   "metadata": {},
   "outputs": [],
   "source": [
    "import os"
   ]
  },
  {
   "cell_type": "code",
   "execution_count": 4,
   "id": "1feff9f1-8f53-4ded-8ed6-df919d33f552",
   "metadata": {},
   "outputs": [
    {
     "data": {
      "text/plain": [
       "PosixPath('/anvil/projects/tdm/data/noaa/1750.csv')"
      ]
     },
     "execution_count": 4,
     "metadata": {},
     "output_type": "execute_result"
    }
   ],
   "source": [
    "Path(\"/anvil/projects/tdm/data/noaa/1750.csv\")"
   ]
  },
  {
   "cell_type": "code",
   "execution_count": 5,
   "id": "6bbea319-4f45-44ad-9d49-12738a6619c0",
   "metadata": {},
   "outputs": [
    {
     "data": {
      "text/plain": [
       "266"
      ]
     },
     "execution_count": 5,
     "metadata": {},
     "output_type": "execute_result"
    }
   ],
   "source": [
    "len(os.listdir('/anvil/projects/tdm/data/noaa/'))"
   ]
  },
  {
   "cell_type": "markdown",
   "id": "53b1ceb7-b41f-4011-8243-a3401b4b25ad",
   "metadata": {},
   "source": [
    "There are 266 years in the dataset. There are two sample files for 2020, but the rest of the files are individual years ranging from 1763 to 2023."
   ]
  },
  {
   "cell_type": "markdown",
   "id": "7b27805e-a862-4e25-9830-e86742107325",
   "metadata": {},
   "source": [
    "### Create a list named myfiles, to hold Path objects from 1880.csv to 1883.csv in the data set folder using list comprehension."
   ]
  },
  {
   "cell_type": "code",
   "execution_count": 6,
   "id": "97f52b1c-5c91-4def-b139-9915ba597f06",
   "metadata": {},
   "outputs": [
    {
     "name": "stdout",
     "output_type": "stream",
     "text": [
      "[PosixPath('/anvil/projects/tdm/data/noaa/1880.csv'), PosixPath('/anvil/projects/tdm/data/noaa/1881.csv'), PosixPath('/anvil/projects/tdm/data/noaa/1882.csv'), PosixPath('/anvil/projects/tdm/data/noaa/1883.csv')]\n"
     ]
    }
   ],
   "source": [
    "myfiles=[ Path(f'/anvil/projects/tdm/data/noaa/{year}.csv') for year in range (1880,1884) ]\n",
    "print(myfiles)"
   ]
  },
  {
   "cell_type": "markdown",
   "id": "fc601975-35ed-4680-a4e1-0273ee3cc047",
   "metadata": {},
   "source": [
    "## Question 2"
   ]
  },
  {
   "cell_type": "markdown",
   "id": "1d75756b-d5c2-4557-8a0e-8b0511702643",
   "metadata": {},
   "source": [
    "### Calculate how many records are in the file 1880.csv. (Each line is one record.)"
   ]
  },
  {
   "cell_type": "code",
   "execution_count": 7,
   "id": "071b67b7-b755-46a8-897c-f08aa920045b",
   "metadata": {},
   "outputs": [
    {
     "name": "stdout",
     "output_type": "stream",
     "text": [
      "There are 370779 records in the file called /anvil/projects/tdm/data/noaa/1880.csv\n"
     ]
    }
   ],
   "source": [
    "file = Path(f'/anvil/projects/tdm/data/noaa/1880.csv')\n",
    "with open(file,\"r\") as f:\n",
    "    mycount = 0\n",
    "    for line in f:\n",
    "        mycount += 1\n",
    "print(f'There are {mycount} records in the file called {file}')"
   ]
  },
  {
   "cell_type": "markdown",
   "id": "fb4dd83b-5d13-4b6e-a573-35a9034c7bc9",
   "metadata": {},
   "source": [
    "### Calculate how many records there are (altogether) in the 4 files from 1880.csv to 1883.csv. Use the list myfiles that you created in Question 1. Your output should give the total number of records altogether"
   ]
  },
  {
   "cell_type": "code",
   "execution_count": 8,
   "id": "458ecc8b-643b-49e3-a7a5-d50fc9794680",
   "metadata": {},
   "outputs": [
    {
     "name": "stdout",
     "output_type": "stream",
     "text": [
      "There are 370779 records in the file called /anvil/projects/tdm/data/noaa/1880.csv\n",
      "There are 443270 records in the file called /anvil/projects/tdm/data/noaa/1881.csv\n",
      "There are 514083 records in the file called /anvil/projects/tdm/data/noaa/1882.csv\n",
      "There are 578730 records in the file called /anvil/projects/tdm/data/noaa/1883.csv\n"
     ]
    }
   ],
   "source": [
    "for year in range (1880, 1884):\n",
    "    file = Path(f'/anvil/projects/tdm/data/noaa/{year}.csv')\n",
    "    with open(file,\"r\") as f:\n",
    "        mycount = 0\n",
    "        for line in f:\n",
    "            mycount += 1\n",
    "    print(f'There are {mycount} records in the file called {file}')"
   ]
  },
  {
   "cell_type": "markdown",
   "id": "f6d99506-a4ea-421b-9192-c2b9d97886b3",
   "metadata": {},
   "source": [
    "## Question 3"
   ]
  },
  {
   "cell_type": "markdown",
   "id": "e043c250-dc0b-4f86-b443-b77857604796",
   "metadata": {},
   "source": [
    "### Run the following statement, to read in the first file from the list myfiles into a DataFrame using myDF = pd.read_csv(myfiles[0]). Display the column names for myDF. Look at the head and tail of myDF. Do you see anything unexpected?"
   ]
  },
  {
   "cell_type": "code",
   "execution_count": 9,
   "id": "717d394a-063f-46bb-8da2-79c4a333a9a4",
   "metadata": {},
   "outputs": [
    {
     "data": {
      "text/plain": [
       "PosixPath('/anvil/projects/tdm/data/noaa/1880.csv')"
      ]
     },
     "execution_count": 9,
     "metadata": {},
     "output_type": "execute_result"
    }
   ],
   "source": [
    "myfiles[0]"
   ]
  },
  {
   "cell_type": "code",
   "execution_count": 10,
   "id": "2208705c-b27a-4ba6-a9c0-1f0c86d6e71b",
   "metadata": {},
   "outputs": [],
   "source": [
    "myDF = pd.read_csv(myfiles[1])"
   ]
  },
  {
   "cell_type": "code",
   "execution_count": 11,
   "id": "b8b45589-b629-4b80-b528-7f7b9ab474cb",
   "metadata": {},
   "outputs": [
    {
     "data": {
      "text/html": [
       "<div>\n",
       "<style scoped>\n",
       "    .dataframe tbody tr th:only-of-type {\n",
       "        vertical-align: middle;\n",
       "    }\n",
       "\n",
       "    .dataframe tbody tr th {\n",
       "        vertical-align: top;\n",
       "    }\n",
       "\n",
       "    .dataframe thead th {\n",
       "        text-align: right;\n",
       "    }\n",
       "</style>\n",
       "<table border=\"1\" class=\"dataframe\">\n",
       "  <thead>\n",
       "    <tr style=\"text-align: right;\">\n",
       "      <th></th>\n",
       "      <th>AGE00135039</th>\n",
       "      <th>18810101</th>\n",
       "      <th>PRCP</th>\n",
       "      <th>30</th>\n",
       "      <th>Unnamed: 4</th>\n",
       "      <th>Unnamed: 5</th>\n",
       "      <th>E</th>\n",
       "      <th>Unnamed: 7</th>\n",
       "    </tr>\n",
       "  </thead>\n",
       "  <tbody>\n",
       "    <tr>\n",
       "      <th>0</th>\n",
       "      <td>AGE00147705</td>\n",
       "      <td>18810101</td>\n",
       "      <td>PRCP</td>\n",
       "      <td>479</td>\n",
       "      <td>NaN</td>\n",
       "      <td>NaN</td>\n",
       "      <td>E</td>\n",
       "      <td>NaN</td>\n",
       "    </tr>\n",
       "    <tr>\n",
       "      <th>1</th>\n",
       "      <td>AGE00147708</td>\n",
       "      <td>18810101</td>\n",
       "      <td>PRCP</td>\n",
       "      <td>125</td>\n",
       "      <td>NaN</td>\n",
       "      <td>NaN</td>\n",
       "      <td>E</td>\n",
       "      <td>NaN</td>\n",
       "    </tr>\n",
       "    <tr>\n",
       "      <th>2</th>\n",
       "      <td>AGE00147709</td>\n",
       "      <td>18810101</td>\n",
       "      <td>PRCP</td>\n",
       "      <td>125</td>\n",
       "      <td>NaN</td>\n",
       "      <td>NaN</td>\n",
       "      <td>E</td>\n",
       "      <td>NaN</td>\n",
       "    </tr>\n",
       "    <tr>\n",
       "      <th>3</th>\n",
       "      <td>AGE00147711</td>\n",
       "      <td>18810101</td>\n",
       "      <td>PRCP</td>\n",
       "      <td>0</td>\n",
       "      <td>NaN</td>\n",
       "      <td>NaN</td>\n",
       "      <td>E</td>\n",
       "      <td>NaN</td>\n",
       "    </tr>\n",
       "    <tr>\n",
       "      <th>4</th>\n",
       "      <td>AGE00147712</td>\n",
       "      <td>18810101</td>\n",
       "      <td>PRCP</td>\n",
       "      <td>138</td>\n",
       "      <td>NaN</td>\n",
       "      <td>NaN</td>\n",
       "      <td>E</td>\n",
       "      <td>NaN</td>\n",
       "    </tr>\n",
       "  </tbody>\n",
       "</table>\n",
       "</div>"
      ],
      "text/plain": [
       "   AGE00135039  18810101  PRCP   30 Unnamed: 4 Unnamed: 5  E  Unnamed: 7\n",
       "0  AGE00147705  18810101  PRCP  479        NaN        NaN  E         NaN\n",
       "1  AGE00147708  18810101  PRCP  125        NaN        NaN  E         NaN\n",
       "2  AGE00147709  18810101  PRCP  125        NaN        NaN  E         NaN\n",
       "3  AGE00147711  18810101  PRCP    0        NaN        NaN  E         NaN\n",
       "4  AGE00147712  18810101  PRCP  138        NaN        NaN  E         NaN"
      ]
     },
     "execution_count": 11,
     "metadata": {},
     "output_type": "execute_result"
    }
   ],
   "source": [
    "myDF.head()"
   ]
  },
  {
   "cell_type": "markdown",
   "id": "446a0a9e-b3e2-4c02-a674-fa1ad57b7579",
   "metadata": {},
   "source": [
    "There are 3 \"unnamed\" columns. By using read_csv, it uses the first row as the header."
   ]
  },
  {
   "cell_type": "markdown",
   "id": "a7576ebc-d7bc-47af-af56-d4084365f5fa",
   "metadata": {},
   "source": [
    "### Please modify your work from Question 3a, to correct the problem that you found. What are the column names now?"
   ]
  },
  {
   "cell_type": "code",
   "execution_count": 12,
   "id": "a71b6767-0011-427d-8642-a0f9d3e14f24",
   "metadata": {},
   "outputs": [],
   "source": [
    "myDF = pd.read_csv(myfiles[0], header = None)"
   ]
  },
  {
   "cell_type": "code",
   "execution_count": 13,
   "id": "2e5596ee-d0df-400e-9ed5-675e02899270",
   "metadata": {},
   "outputs": [
    {
     "data": {
      "text/html": [
       "<div>\n",
       "<style scoped>\n",
       "    .dataframe tbody tr th:only-of-type {\n",
       "        vertical-align: middle;\n",
       "    }\n",
       "\n",
       "    .dataframe tbody tr th {\n",
       "        vertical-align: top;\n",
       "    }\n",
       "\n",
       "    .dataframe thead th {\n",
       "        text-align: right;\n",
       "    }\n",
       "</style>\n",
       "<table border=\"1\" class=\"dataframe\">\n",
       "  <thead>\n",
       "    <tr style=\"text-align: right;\">\n",
       "      <th></th>\n",
       "      <th>0</th>\n",
       "      <th>1</th>\n",
       "      <th>2</th>\n",
       "      <th>3</th>\n",
       "      <th>4</th>\n",
       "      <th>5</th>\n",
       "      <th>6</th>\n",
       "      <th>7</th>\n",
       "    </tr>\n",
       "  </thead>\n",
       "  <tbody>\n",
       "    <tr>\n",
       "      <th>0</th>\n",
       "      <td>AGE00147705</td>\n",
       "      <td>18800101</td>\n",
       "      <td>PRCP</td>\n",
       "      <td>0</td>\n",
       "      <td>NaN</td>\n",
       "      <td>NaN</td>\n",
       "      <td>E</td>\n",
       "      <td>NaN</td>\n",
       "    </tr>\n",
       "    <tr>\n",
       "      <th>1</th>\n",
       "      <td>AGE00147708</td>\n",
       "      <td>18800101</td>\n",
       "      <td>PRCP</td>\n",
       "      <td>36</td>\n",
       "      <td>NaN</td>\n",
       "      <td>NaN</td>\n",
       "      <td>E</td>\n",
       "      <td>NaN</td>\n",
       "    </tr>\n",
       "    <tr>\n",
       "      <th>2</th>\n",
       "      <td>AGE00147709</td>\n",
       "      <td>18800101</td>\n",
       "      <td>PRCP</td>\n",
       "      <td>36</td>\n",
       "      <td>NaN</td>\n",
       "      <td>NaN</td>\n",
       "      <td>E</td>\n",
       "      <td>NaN</td>\n",
       "    </tr>\n",
       "    <tr>\n",
       "      <th>3</th>\n",
       "      <td>AGE00147712</td>\n",
       "      <td>18800101</td>\n",
       "      <td>PRCP</td>\n",
       "      <td>0</td>\n",
       "      <td>NaN</td>\n",
       "      <td>NaN</td>\n",
       "      <td>E</td>\n",
       "      <td>NaN</td>\n",
       "    </tr>\n",
       "    <tr>\n",
       "      <th>4</th>\n",
       "      <td>AGE00147713</td>\n",
       "      <td>18800101</td>\n",
       "      <td>TMAX</td>\n",
       "      <td>52</td>\n",
       "      <td>NaN</td>\n",
       "      <td>NaN</td>\n",
       "      <td>E</td>\n",
       "      <td>NaN</td>\n",
       "    </tr>\n",
       "  </tbody>\n",
       "</table>\n",
       "</div>"
      ],
      "text/plain": [
       "             0         1     2   3    4    5  6   7\n",
       "0  AGE00147705  18800101  PRCP   0  NaN  NaN  E NaN\n",
       "1  AGE00147708  18800101  PRCP  36  NaN  NaN  E NaN\n",
       "2  AGE00147709  18800101  PRCP  36  NaN  NaN  E NaN\n",
       "3  AGE00147712  18800101  PRCP   0  NaN  NaN  E NaN\n",
       "4  AGE00147713  18800101  TMAX  52  NaN  NaN  E NaN"
      ]
     },
     "execution_count": 13,
     "metadata": {},
     "output_type": "execute_result"
    }
   ],
   "source": [
    "myDF.head()"
   ]
  },
  {
   "cell_type": "markdown",
   "id": "f3e97d9a-6d23-4af4-b731-70e5778d18f0",
   "metadata": {},
   "source": [
    "The column names are now numerical, \"0, 1, 2, 3, 4, 5, 6, 7\""
   ]
  },
  {
   "cell_type": "markdown",
   "id": "77944b5b-aff1-4f46-9dc0-09cd5efaf45a",
   "metadata": {},
   "source": [
    "### Now let us add these 7 column names: id, date, element_code, value, mflag, qflag, sflag, and obstime to the data frame."
   ]
  },
  {
   "cell_type": "code",
   "execution_count": 14,
   "id": "a938000c-a650-4110-aa2d-90701b9eed7b",
   "metadata": {},
   "outputs": [
    {
     "data": {
      "text/html": [
       "<div>\n",
       "<style scoped>\n",
       "    .dataframe tbody tr th:only-of-type {\n",
       "        vertical-align: middle;\n",
       "    }\n",
       "\n",
       "    .dataframe tbody tr th {\n",
       "        vertical-align: top;\n",
       "    }\n",
       "\n",
       "    .dataframe thead th {\n",
       "        text-align: right;\n",
       "    }\n",
       "</style>\n",
       "<table border=\"1\" class=\"dataframe\">\n",
       "  <thead>\n",
       "    <tr style=\"text-align: right;\">\n",
       "      <th></th>\n",
       "      <th>id</th>\n",
       "      <th>date</th>\n",
       "      <th>element_code</th>\n",
       "      <th>value</th>\n",
       "      <th>mflag</th>\n",
       "      <th>qflag</th>\n",
       "      <th>sflag</th>\n",
       "      <th>obstime</th>\n",
       "    </tr>\n",
       "  </thead>\n",
       "  <tbody>\n",
       "    <tr>\n",
       "      <th>0</th>\n",
       "      <td>AGE00147705</td>\n",
       "      <td>18800101</td>\n",
       "      <td>PRCP</td>\n",
       "      <td>0</td>\n",
       "      <td>NaN</td>\n",
       "      <td>NaN</td>\n",
       "      <td>E</td>\n",
       "      <td>NaN</td>\n",
       "    </tr>\n",
       "    <tr>\n",
       "      <th>1</th>\n",
       "      <td>AGE00147708</td>\n",
       "      <td>18800101</td>\n",
       "      <td>PRCP</td>\n",
       "      <td>36</td>\n",
       "      <td>NaN</td>\n",
       "      <td>NaN</td>\n",
       "      <td>E</td>\n",
       "      <td>NaN</td>\n",
       "    </tr>\n",
       "    <tr>\n",
       "      <th>2</th>\n",
       "      <td>AGE00147709</td>\n",
       "      <td>18800101</td>\n",
       "      <td>PRCP</td>\n",
       "      <td>36</td>\n",
       "      <td>NaN</td>\n",
       "      <td>NaN</td>\n",
       "      <td>E</td>\n",
       "      <td>NaN</td>\n",
       "    </tr>\n",
       "    <tr>\n",
       "      <th>3</th>\n",
       "      <td>AGE00147712</td>\n",
       "      <td>18800101</td>\n",
       "      <td>PRCP</td>\n",
       "      <td>0</td>\n",
       "      <td>NaN</td>\n",
       "      <td>NaN</td>\n",
       "      <td>E</td>\n",
       "      <td>NaN</td>\n",
       "    </tr>\n",
       "    <tr>\n",
       "      <th>4</th>\n",
       "      <td>AGE00147713</td>\n",
       "      <td>18800101</td>\n",
       "      <td>TMAX</td>\n",
       "      <td>52</td>\n",
       "      <td>NaN</td>\n",
       "      <td>NaN</td>\n",
       "      <td>E</td>\n",
       "      <td>NaN</td>\n",
       "    </tr>\n",
       "    <tr>\n",
       "      <th>...</th>\n",
       "      <td>...</td>\n",
       "      <td>...</td>\n",
       "      <td>...</td>\n",
       "      <td>...</td>\n",
       "      <td>...</td>\n",
       "      <td>...</td>\n",
       "      <td>...</td>\n",
       "      <td>...</td>\n",
       "    </tr>\n",
       "    <tr>\n",
       "      <th>370774</th>\n",
       "      <td>USW00093852</td>\n",
       "      <td>18801231</td>\n",
       "      <td>TMAX</td>\n",
       "      <td>39</td>\n",
       "      <td>NaN</td>\n",
       "      <td>NaN</td>\n",
       "      <td>X</td>\n",
       "      <td>NaN</td>\n",
       "    </tr>\n",
       "    <tr>\n",
       "      <th>370775</th>\n",
       "      <td>USW00093852</td>\n",
       "      <td>18801231</td>\n",
       "      <td>TMIN</td>\n",
       "      <td>-17</td>\n",
       "      <td>NaN</td>\n",
       "      <td>NaN</td>\n",
       "      <td>X</td>\n",
       "      <td>NaN</td>\n",
       "    </tr>\n",
       "    <tr>\n",
       "      <th>370776</th>\n",
       "      <td>USW00094728</td>\n",
       "      <td>18801231</td>\n",
       "      <td>TMAX</td>\n",
       "      <td>-122</td>\n",
       "      <td>NaN</td>\n",
       "      <td>NaN</td>\n",
       "      <td>0</td>\n",
       "      <td>NaN</td>\n",
       "    </tr>\n",
       "    <tr>\n",
       "      <th>370777</th>\n",
       "      <td>USW00094728</td>\n",
       "      <td>18801231</td>\n",
       "      <td>TMIN</td>\n",
       "      <td>-194</td>\n",
       "      <td>NaN</td>\n",
       "      <td>NaN</td>\n",
       "      <td>0</td>\n",
       "      <td>NaN</td>\n",
       "    </tr>\n",
       "    <tr>\n",
       "      <th>370778</th>\n",
       "      <td>USW00094728</td>\n",
       "      <td>18801231</td>\n",
       "      <td>PRCP</td>\n",
       "      <td>0</td>\n",
       "      <td>NaN</td>\n",
       "      <td>NaN</td>\n",
       "      <td>0</td>\n",
       "      <td>NaN</td>\n",
       "    </tr>\n",
       "  </tbody>\n",
       "</table>\n",
       "<p>370779 rows × 8 columns</p>\n",
       "</div>"
      ],
      "text/plain": [
       "                 id      date element_code  value mflag qflag sflag  obstime\n",
       "0       AGE00147705  18800101         PRCP      0   NaN   NaN     E      NaN\n",
       "1       AGE00147708  18800101         PRCP     36   NaN   NaN     E      NaN\n",
       "2       AGE00147709  18800101         PRCP     36   NaN   NaN     E      NaN\n",
       "3       AGE00147712  18800101         PRCP      0   NaN   NaN     E      NaN\n",
       "4       AGE00147713  18800101         TMAX     52   NaN   NaN     E      NaN\n",
       "...             ...       ...          ...    ...   ...   ...   ...      ...\n",
       "370774  USW00093852  18801231         TMAX     39   NaN   NaN     X      NaN\n",
       "370775  USW00093852  18801231         TMIN    -17   NaN   NaN     X      NaN\n",
       "370776  USW00094728  18801231         TMAX   -122   NaN   NaN     0      NaN\n",
       "370777  USW00094728  18801231         TMIN   -194   NaN   NaN     0      NaN\n",
       "370778  USW00094728  18801231         PRCP      0   NaN   NaN     0      NaN\n",
       "\n",
       "[370779 rows x 8 columns]"
      ]
     },
     "execution_count": 14,
     "metadata": {},
     "output_type": "execute_result"
    }
   ],
   "source": [
    "pd.read_csv(myfiles[0],names = [\"id\",\"date\",\"element_code\",\"value\",\"mflag\",\"qflag\",\"sflag\",\"obstime\"])"
   ]
  },
  {
   "cell_type": "markdown",
   "id": "ea5bac64-09f8-4566-8f6f-ec67a3a7430e",
   "metadata": {},
   "source": [
    "### Make a list called mydataframes (of length 4) that contains 4 data frames, one for each year, from 1880.csv to 1883.csv. Starting with the sample code (above) for reading in the first file, modify our example, so that you have a \"for\" loop that reads in all 4 files. Test your work with a for loop that displays the column names of each of the four data frames in mydataframes."
   ]
  },
  {
   "cell_type": "code",
   "execution_count": 15,
   "id": "15c3d52d-badc-4032-a418-8bc2cd8d8f80",
   "metadata": {},
   "outputs": [],
   "source": [
    "mydataframes = []\n",
    "for i in range(0,4):\n",
    "    mydataframes.append(pd.read_csv(myfiles[0],names = [\"id\",\"date\",\"element_code\",\"value\",\"mflag\",\"qflag\",\"sflag\",\"obstime\"]))"
   ]
  },
  {
   "cell_type": "code",
   "execution_count": 16,
   "id": "63355f19-20f1-4e26-bca1-b09430207872",
   "metadata": {},
   "outputs": [
    {
     "data": {
      "text/plain": [
       "(370779, 8)"
      ]
     },
     "execution_count": 16,
     "metadata": {},
     "output_type": "execute_result"
    }
   ],
   "source": [
    "mydataframes[1].shape"
   ]
  },
  {
   "cell_type": "code",
   "execution_count": 17,
   "id": "e8eb9ae9-eef7-4ea6-9c53-5a40062d0444",
   "metadata": {},
   "outputs": [
    {
     "name": "stdout",
     "output_type": "stream",
     "text": [
      "(370779, 8)\n",
      "(370779, 8)\n",
      "(370779, 8)\n",
      "(370779, 8)\n"
     ]
    }
   ],
   "source": [
    "for i in range(0,4):\n",
    "    print(mydataframes[i].shape)"
   ]
  },
  {
   "cell_type": "code",
   "execution_count": 18,
   "id": "6f21baee-24c9-423e-b52b-2b599d61cb53",
   "metadata": {},
   "outputs": [
    {
     "name": "stdout",
     "output_type": "stream",
     "text": [
      "Index(['id', 'date', 'element_code', 'value', 'mflag', 'qflag', 'sflag',\n",
      "       'obstime'],\n",
      "      dtype='object')\n",
      "Index(['id', 'date', 'element_code', 'value', 'mflag', 'qflag', 'sflag',\n",
      "       'obstime'],\n",
      "      dtype='object')\n",
      "Index(['id', 'date', 'element_code', 'value', 'mflag', 'qflag', 'sflag',\n",
      "       'obstime'],\n",
      "      dtype='object')\n",
      "Index(['id', 'date', 'element_code', 'value', 'mflag', 'qflag', 'sflag',\n",
      "       'obstime'],\n",
      "      dtype='object')\n"
     ]
    }
   ],
   "source": [
    "for i in range(0,4):\n",
    "    print(mydataframes[i].columns)"
   ]
  },
  {
   "cell_type": "markdown",
   "id": "8ba5b518-40fa-49b2-b24b-6fadd51588b1",
   "metadata": {},
   "source": [
    "## Question 4"
   ]
  },
  {
   "cell_type": "markdown",
   "id": "72393df4-c35d-4931-8cc3-359221c5f2d7",
   "metadata": {},
   "source": [
    "### Let’s look at the column element_code. Use a loop to solve the following questions for all 4 DataFrames:\n",
    "\n",
    "### Print out the (unique) elements of the column element_code (i.e., show each element just one time)."
   ]
  },
  {
   "cell_type": "code",
   "execution_count": 19,
   "id": "f23db8fc-ac7c-446b-b785-3c5f9bb8411c",
   "metadata": {},
   "outputs": [
    {
     "data": {
      "text/plain": [
       "array(['PRCP', 'TMAX', 'TMIN', 'SNOW', 'SNWD', 'TAVG', 'MDPR', 'DATN',\n",
       "       'DATX', 'MDTN', 'MDTX', 'DAPR', 'DWPR', 'MDSF', 'WT01', 'TOBS',\n",
       "       'WT04', 'WT05'], dtype=object)"
      ]
     },
     "execution_count": 19,
     "metadata": {},
     "output_type": "execute_result"
    }
   ],
   "source": [
    "mydataframes[i]['element_code'].unique()"
   ]
  },
  {
   "cell_type": "code",
   "execution_count": 20,
   "id": "711258d0-af00-4d9a-99f9-a1271e2607e1",
   "metadata": {},
   "outputs": [
    {
     "name": "stdout",
     "output_type": "stream",
     "text": [
      "<bound method Series.unique of 0         PRCP\n",
      "1         PRCP\n",
      "2         PRCP\n",
      "3         PRCP\n",
      "4         TMAX\n",
      "          ... \n",
      "370774    TMAX\n",
      "370775    TMIN\n",
      "370776    TMAX\n",
      "370777    TMIN\n",
      "370778    PRCP\n",
      "Name: element_code, Length: 370779, dtype: object>\n",
      "<bound method Series.unique of 0         PRCP\n",
      "1         PRCP\n",
      "2         PRCP\n",
      "3         PRCP\n",
      "4         TMAX\n",
      "          ... \n",
      "370774    TMAX\n",
      "370775    TMIN\n",
      "370776    TMAX\n",
      "370777    TMIN\n",
      "370778    PRCP\n",
      "Name: element_code, Length: 370779, dtype: object>\n",
      "<bound method Series.unique of 0         PRCP\n",
      "1         PRCP\n",
      "2         PRCP\n",
      "3         PRCP\n",
      "4         TMAX\n",
      "          ... \n",
      "370774    TMAX\n",
      "370775    TMIN\n",
      "370776    TMAX\n",
      "370777    TMIN\n",
      "370778    PRCP\n",
      "Name: element_code, Length: 370779, dtype: object>\n",
      "<bound method Series.unique of 0         PRCP\n",
      "1         PRCP\n",
      "2         PRCP\n",
      "3         PRCP\n",
      "4         TMAX\n",
      "          ... \n",
      "370774    TMAX\n",
      "370775    TMIN\n",
      "370776    TMAX\n",
      "370777    TMIN\n",
      "370778    PRCP\n",
      "Name: element_code, Length: 370779, dtype: object>\n"
     ]
    }
   ],
   "source": [
    "for myDF in mydataframes:\n",
    "    print(myDF['element_code'].unique)"
   ]
  },
  {
   "cell_type": "code",
   "execution_count": 21,
   "id": "6391b740-f4e1-48a6-b728-1025a53ed81e",
   "metadata": {},
   "outputs": [
    {
     "name": "stdout",
     "output_type": "stream",
     "text": [
      "18\n",
      "18\n",
      "18\n",
      "18\n"
     ]
    }
   ],
   "source": [
    "for myDF in mydataframes:\n",
    "    print(len(myDF['element_code'].unique()))"
   ]
  },
  {
   "cell_type": "markdown",
   "id": "d155938f-32ab-42ab-b9b3-c6bfb002fb0e",
   "metadata": {},
   "source": [
    "### Find the number of times that SNOW occurs in the element_code column."
   ]
  },
  {
   "cell_type": "code",
   "execution_count": 22,
   "id": "2f28e40c-693a-4f83-8994-9f07b4560f49",
   "metadata": {},
   "outputs": [
    {
     "name": "stdout",
     "output_type": "stream",
     "text": [
      "33700\n",
      "33700\n",
      "33700\n",
      "33700\n"
     ]
    }
   ],
   "source": [
    "for myDF in mydataframes:\n",
    "    print(myDF['element_code'].value_counts()['SNOW'])"
   ]
  },
  {
   "cell_type": "markdown",
   "id": "88c9cdac-3e92-498f-83fa-e089bfc44ac8",
   "metadata": {},
   "source": [
    "## Question 5"
   ]
  },
  {
   "cell_type": "markdown",
   "id": "83f3e2bd-ebc7-4ff8-bf56-4545f5919f50",
   "metadata": {},
   "source": [
    "### Try to run the following 2 programs, to find the number of times that SNOW occurs in the element_code column, from the year 1880 to year 1883. Explain your understanding of chunksize."
   ]
  },
  {
   "cell_type": "code",
   "execution_count": 23,
   "id": "81658c3c-a42d-4801-8e9d-176c656db3a4",
   "metadata": {},
   "outputs": [],
   "source": [
    "myfiles=[]\n",
    "for year in range (1880, 1884):\n",
    "    file= Path(f'/anvil/projects/tdm/data/noaa/{year}.csv')\n",
    "    myfiles.append(file)"
   ]
  },
  {
   "cell_type": "code",
   "execution_count": 28,
   "id": "3e09485d-5d15-4d8e-970a-182f22e67b4d",
   "metadata": {},
   "outputs": [
    {
     "name": "stdout",
     "output_type": "stream",
     "text": [
      "164216\n"
     ]
    }
   ],
   "source": [
    "count = 0\n",
    "for file in myfiles:\n",
    "    for myDF in pd.read_csv(file,names=[\"id\",\"date\",\"element_code\",\"value\",\"mflag\",\"qflag\",\"sflag\",\"obstime\"],chunksize =10000):\n",
    "        count += len(myDF[myDF['element_code'] == 'SNOW'])\n",
    "print(count)"
   ]
  },
  {
   "cell_type": "code",
   "execution_count": 27,
   "id": "87d34cbc-8392-48c8-95dd-7990906eb271",
   "metadata": {},
   "outputs": [
    {
     "name": "stdout",
     "output_type": "stream",
     "text": [
      "164216\n"
     ]
    }
   ],
   "source": [
    "count = 0\n",
    "for file in myfiles:\n",
    "    for myDF in pd.read_csv(file,names=[\"id\",\"date\",\"element_code\",\"value\",\"mflag\",\"qflag\",\"sflag\",\"obstime\"],chunksize =10000):\n",
    "        for index, row in myDF.iterrows():\n",
    "            if row['element_code'] == 'SNOW':\n",
    "                count += 1\n",
    "\n",
    "print(count)"
   ]
  },
  {
   "cell_type": "markdown",
   "id": "25d739ce-bdc4-4ee5-a493-432d56d290bb",
   "metadata": {},
   "source": [
    "Chunksize helps run time when working with large datasets; \"chunksize\" is the number of rows that will be read when a program is ran, regardless of the datasets size. "
   ]
  },
  {
   "cell_type": "markdown",
   "id": "f76442d6-d02e-4f26-b9d6-c3183e1d6929",
   "metadata": {},
   "source": [
    "## Pledge\n",
    "\n",
    "By submitting this work I hereby pledge that this is my own, personal work. I've acknowledged in the designated place at the top of this file all sources that I used to complete said work, including but not limited to: online resources, books, and electronic communications. I've noted all collaboration with fellow students and/or TA's. I did not copy or plagiarize another's work.\n",
    "\n",
    "> As a Boilermaker pursuing academic excellence, I pledge to be honest and true in all that I do. Accountable together – We are Purdue."
   ]
  }
 ],
 "metadata": {
  "kernelspec": {
   "display_name": "seminar",
   "language": "python",
   "name": "seminar"
  },
  "language_info": {
   "codemirror_mode": {
    "name": "ipython",
    "version": 3
   },
   "file_extension": ".py",
   "mimetype": "text/x-python",
   "name": "python",
   "nbconvert_exporter": "python",
   "pygments_lexer": "ipython3",
   "version": "3.11.5"
  }
 },
 "nbformat": 4,
 "nbformat_minor": 5
}
